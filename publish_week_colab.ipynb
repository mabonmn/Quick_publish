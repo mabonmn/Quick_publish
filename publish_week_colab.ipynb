{
  "nbformat": 4,
  "nbformat_minor": 0,
  "metadata": {
    "colab": {
      "name": "publish_week_colab.ipynb",
      "provenance": [],
      "collapsed_sections": [],
      "authorship_tag": "ABX9TyMKnnVqn74u3SbqGC1iUxm8",
      "include_colab_link": true
    },
    "kernelspec": {
      "name": "python3",
      "display_name": "Python 3"
    },
    "language_info": {
      "name": "python"
    }
  },
  "cells": [
    {
      "cell_type": "markdown",
      "metadata": {
        "id": "view-in-github",
        "colab_type": "text"
      },
      "source": [
        "<a href=\"https://colab.research.google.com/github/mabonmn/Quick_publish/blob/main/publish_week_colab.ipynb\" target=\"_parent\"><img src=\"https://colab.research.google.com/assets/colab-badge.svg\" alt=\"Open In Colab\"/></a>"
      ]
    },
    {
      "cell_type": "code",
      "source": [
        "!pip install ortools"
      ],
      "metadata": {
        "colab": {
          "base_uri": "https://localhost:8080/",
          "height": 398
        },
        "id": "HRg0b6okDU3L",
        "outputId": "c31e2524-683c-484a-8ee2-9b71d432d054"
      },
      "execution_count": null,
      "outputs": [
        {
          "output_type": "stream",
          "name": "stdout",
          "text": [
            "Collecting ortools\n",
            "  Downloading ortools-9.3.10497-cp37-cp37m-manylinux_2_17_x86_64.manylinux2014_x86_64.whl (15.5 MB)\n",
            "\u001b[K     |████████████████████████████████| 15.5 MB 21.0 MB/s \n",
            "\u001b[?25hRequirement already satisfied: numpy>=1.13.3 in /usr/local/lib/python3.7/dist-packages (from ortools) (1.21.6)\n",
            "Requirement already satisfied: absl-py>=0.13 in /usr/local/lib/python3.7/dist-packages (from ortools) (1.0.0)\n",
            "Collecting protobuf>=3.19.4\n",
            "  Downloading protobuf-3.20.1-cp37-cp37m-manylinux_2_5_x86_64.manylinux1_x86_64.whl (1.0 MB)\n",
            "\u001b[K     |████████████████████████████████| 1.0 MB 53.2 MB/s \n",
            "\u001b[?25hRequirement already satisfied: six in /usr/local/lib/python3.7/dist-packages (from absl-py>=0.13->ortools) (1.15.0)\n",
            "Installing collected packages: protobuf, ortools\n",
            "  Attempting uninstall: protobuf\n",
            "    Found existing installation: protobuf 3.17.3\n",
            "    Uninstalling protobuf-3.17.3:\n",
            "      Successfully uninstalled protobuf-3.17.3\n",
            "\u001b[31mERROR: pip's dependency resolver does not currently take into account all the packages that are installed. This behaviour is the source of the following dependency conflicts.\n",
            "tensorflow 2.8.0 requires tf-estimator-nightly==2.8.0.dev2021122109, which is not installed.\u001b[0m\n",
            "Successfully installed ortools-9.3.10497 protobuf-3.20.1\n"
          ]
        },
        {
          "output_type": "display_data",
          "data": {
            "application/vnd.colab-display-data+json": {
              "pip_warning": {
                "packages": [
                  "google"
                ]
              }
            }
          },
          "metadata": {}
        }
      ]
    },
    {
      "cell_type": "code",
      "execution_count": null,
      "metadata": {
        "colab": {
          "base_uri": "https://localhost:8080/"
        },
        "id": "MYEbF_Z36OGI",
        "outputId": "fbb85f1b-dbd0-4e7b-d321-1c0c6068dfa4"
      },
      "outputs": [
        {
          "output_type": "stream",
          "name": "stdout",
          "text": [
            "Drive already mounted at /content/drive; to attempt to forcibly remount, call drive.mount(\"/content/drive\", force_remount=True).\n",
            "Requirement already satisfied: pickle5 in /usr/local/lib/python3.7/dist-packages (0.0.12)\n"
          ]
        }
      ],
      "source": [
        "from google.colab import drive\n",
        "drive.mount('/content/drive')\n",
        "import matplotlib.pyplot as plt\n",
        "import pandas as pd\n",
        "import numpy as np\n",
        "import h5py\n",
        "import math\n",
        "import numpy as np\n",
        "!pip3 install pickle5\n",
        "import pickle5 as pickle\n",
        "from ortools.algorithms import pywrapknapsack_solver\n",
        "\n",
        "import os\n",
        "excel_path=('/content/drive/MyDrive/Feature Extraction - Mabon/coop/frame_score-P4/Knapsack_visualisation-1/TvSum.xlsx')\n",
        "\n",
        "v=32"
      ]
    },
    {
      "cell_type": "code",
      "source": [
        "#open yenchen stuff\n",
        "with open('pred_dict.pickle', 'rb') as handle:\n",
        "    pred_dict = pickle.load(handle)\n",
        "with open('gt_mode_dict.pickle', 'rb') as handle:\n",
        "    gt_mode_dict = pickle.load(handle)\n",
        "pred = np.array(pred_dict['video_'+str(v)])\n",
        "gt_mode=np.array(gt_mode_dict['video_'+str(v)][()])\n"
      ],
      "metadata": {
        "id": "ixFqGGB86R-n"
      },
      "execution_count": null,
      "outputs": []
    },
    {
      "cell_type": "code",
      "source": [
        "#ECCV FILE\n",
        "file_load= h5py.File('/content/drive/MyDrive/Feature Extraction - Mabon/coop/frame_score-P4/Knapsack_visualisation-1/h5/tvsum_change_points_eccv.h5', 'r')\n",
        "gt_score=file_load['video_'+str(v)]['gtscore'][:]\n",
        "gt_summary=file_load['video_'+str(v)]['gtsummary'][:]\n",
        "n_frame=file_load['video_'+str(v)]['n_frames'][()]\n",
        "picks=file_load['video_'+str(v)]['picks'][:]\n",
        "change_pts=file_load['video_'+str(v)]['change_points'][:]\n",
        "nfps=file_load['video_'+str(v)]['n_frame_per_seg'][:]\n",
        "tvsum_raw=pd.read_excel(excel_path, header=None, sheet_name=str(v)) \n",
        "gt=tvsum_raw.mean(axis='columns')\n"
      ],
      "metadata": {
        "id": "NWZyphkJ6-Cd"
      },
      "execution_count": null,
      "outputs": []
    },
    {
      "cell_type": "code",
      "source": [
        "def up_sample(score, n_frames, positions):\n",
        "    \n",
        "    frame_scores = np.zeros((n_frames), dtype=np.float32)\n",
        "    if positions.dtype != int:\n",
        "        positions = positions.astype(np.int32)\n",
        "    if positions[-1] != n_frames:\n",
        "        positions = np.concatenate([positions, [n_frames]])\n",
        "    for i in range(len(positions) - 1):\n",
        "        pos_left, pos_right = positions[i], positions[i+1]\n",
        "        if i == len(score):\n",
        "            frame_scores[pos_left:pos_right] = 0\n",
        "        else:\n",
        "            frame_scores[pos_left:pos_right] = score[i]\n",
        "            \n",
        "    return frame_scores\n",
        "pred=up_sample(pred,n_frame,picks)\n",
        "gt_mode=up_sample(gt_mode,n_frame,picks)"
      ],
      "metadata": {
        "id": "IJPkiVao8Keq"
      },
      "execution_count": null,
      "outputs": []
    },
    {
      "cell_type": "code",
      "source": [
        "def frame_seg(change_pts,nfps,gt):\n",
        "  \n",
        "  '''\n",
        "  This is a simple function that is used to calculate the frame segment score based on the gt score.\n",
        "  here segment scores are taken as the mean of all the frame_scores (gt) in that shot. \n",
        "  Inputs:\n",
        "    change_pts: Change Points -> list\n",
        "    nfps:Number of Frames in each segment  -> list\n",
        "    gt:gt score -> list\n",
        "\n",
        "  --------------------------------------------------------------------------------------------------------------------------------------------------------\n",
        "  Data Types in the funtion  \n",
        "    n_seg: Number Of segments in the video\n",
        "    seg_score: Vector conting the mean scores of the frames in each segment. \n",
        "    frame_seg_score: a vector containg all the frame scores from segments scoress. ie we take segment 1' score and assin this score to all the frames in that segment.\n",
        "\n",
        "  ---------------------------------------------------------------------------------------------------------------------------------------------------------\n",
        "  Output\n",
        "    seg_score : Segment score list ->list\n",
        "    frame_seg_score: average score of frames based on the segement score  -> list\n",
        "  '''\n",
        "  n_segs = change_pts.shape[0]\n",
        "  seg_score = []\n",
        "  for seg_idx in range(n_segs):\n",
        "      start, end = int(change_pts[seg_idx,0]), int(change_pts[seg_idx,1]+1)\n",
        "      scores = gt[start:end]\n",
        "      seg_score.append(float(scores.mean()))\n",
        "  frame_seg_score=[]\n",
        "  for seg_idx in range(n_segs):\n",
        "      nf = nfps[seg_idx]\n",
        "      frame_seg_score.extend([seg_score[seg_idx] for i in range(nf)])\n",
        "  return seg_score,frame_seg_score "
      ],
      "metadata": {
        "id": "muT0BmBjArjF"
      },
      "execution_count": null,
      "outputs": []
    },
    {
      "cell_type": "code",
      "source": [
        "#This funtion is used to define the color sequnce for the KV- bar plot\n",
        "\n",
        "def color_coding(summary):\n",
        "\n",
        "#input of this is the summary and the list of colors for each of the points in the summary is returned.\n",
        "  c=[]\n",
        "  for x in summary:\n",
        "    if x==0:\n",
        "      c.append('red')\n",
        "    elif x==1:\n",
        "      c.append('green')\n",
        "\n",
        "  return c"
      ],
      "metadata": {
        "id": "ZzH9yY3IBXWP"
      },
      "execution_count": null,
      "outputs": []
    },
    {
      "cell_type": "code",
      "source": [
        "#This function is to ensure that  the values are passed to the function in the appropriate data-type. \n",
        "#It also ensure that the inputed values are in the correct range.\n",
        "\n",
        "def check_inputs(values,weights,n_items,capacity):\n",
        "    # check variable type\n",
        "    assert(isinstance(values,list))\n",
        "    assert(isinstance(weights,list))\n",
        "    assert(isinstance(n_items,int))\n",
        "    assert(isinstance(capacity,int))\n",
        "    # check value type\n",
        "    assert(all(isinstance(val,int) or isinstance(val,float) for val in values))\n",
        "    assert(all(isinstance(val,int) for val in weights))\n",
        "    # check validity of value\n",
        "    assert(all(val >= 0 for val in weights))\n",
        "    assert(n_items > 0)\n",
        "    assert(capacity > 0)"
      ],
      "metadata": {
        "id": "UDYcZIZdDoxH"
      },
      "execution_count": null,
      "outputs": []
    },
    {
      "cell_type": "code",
      "source": [
        "\n",
        "osolver = pywrapknapsack_solver.KnapsackSolver(\n",
        "    # pywrapknapsack_solver.KnapsackSolver.KNAPSACK_MULTIDIMENSION_BRANCH_AND_BOUND_SOLVER,\n",
        "    pywrapknapsack_solver.KnapsackSolver.KNAPSACK_DYNAMIC_PROGRAMMING_SOLVER,\n",
        "    'test')\n"
      ],
      "metadata": {
        "id": "57Q14bptDqH7"
      },
      "execution_count": null,
      "outputs": []
    },
    {
      "cell_type": "code",
      "source": [
        "def knapsack_ortools(values, weights, items, capacity ):\n",
        "    scale = 1000\n",
        "    values = np.array(values)\n",
        "    weights = np.array(weights)\n",
        "    values = (values * scale).astype(np.int)\n",
        "    weights = (weights).astype(np.int)\n",
        "    capacity = capacity\n",
        "\n",
        "    osolver.Init(values.tolist(), [weights.tolist()], [capacity])\n",
        "    computed_value = osolver.Solve()\n",
        "    packed_items = [x for x in range(0, len(weights))\n",
        "                    if osolver.BestSolutionContains(x)]\n",
        "\n",
        "    return packed_items\n"
      ],
      "metadata": {
        "id": "vUHl6IPaFG_y"
      },
      "execution_count": null,
      "outputs": []
    },
    {
      "cell_type": "code",
      "source": [
        "\n",
        "#===========================================\n",
        "'''\n",
        "------------------------------------------------\n",
        "Use dynamic programming (DP) to solve 0/1 knapsack problem\n",
        "Time complexity: O(nW), where n is number of items and W is capacity\n",
        "\n",
        "Author: Kaiyang Zhou\n",
        "Website: https://kaiyangzhou.github.io/\n",
        "------------------------------------------------\n",
        "knapsack_dp(values,weights,n_items,capacity,return_all=False)\n",
        "\n",
        "Input arguments:\n",
        "  1. values: a list of numbers in either int or float, specifying the values of items\n",
        "  2. weights: a list of int numbers specifying weights of items\n",
        "  3. n_items: an int number indicating number of items\n",
        "  4. capacity: an int number indicating the knapsack capacity\n",
        "  5. return_all: whether return all info, defaulty is False (optional)\n",
        "\n",
        "Return:\n",
        "  1. picks: a list of numbers storing the positions of selected items\n",
        "  2. max_val: maximum value (optional)\n",
        "------------------------------------------------\n",
        "'''\n",
        "def knapsack_dp(values,weights,n_items,capacity,return_all=False):\n",
        "    check_inputs(values,weights,n_items,capacity)\n",
        "\n",
        "    table = np.zeros((n_items+1,capacity+1),dtype=np.float32)\n",
        "    keep = np.zeros((n_items+1,capacity+1),dtype=np.float32)\n",
        "\n",
        "    for i in range(1,n_items+1):\n",
        "        for w in range(0,capacity+1):\n",
        "            wi = weights[i-1] # weight of current item\n",
        "            vi = values[i-1] # value of current item\n",
        "            if (wi <= w) and (vi + table[i-1,w-wi] > table[i-1,w]):\n",
        "                table[i,w] = vi + table[i-1,w-wi]\n",
        "                keep[i,w] = 1\n",
        "            else:\n",
        "                table[i,w] = table[i-1,w]\n",
        "\n",
        "    picks = []\n",
        "    K = capacity\n",
        "\n",
        "    for i in range(n_items,0,-1):\n",
        "        if keep[i,K] == 1:\n",
        "            picks.append(i)\n",
        "            K -= weights[i-1]\n",
        "\n",
        "    picks.sort()\n",
        "    picks = [x-1 for x in picks] # change to 0-index\n",
        "\n",
        "    if return_all:\n",
        "        max_val = table[n_items,capacity]\n",
        "        return picks,max_val\n",
        "    return picks\n"
      ],
      "metadata": {
        "id": "lEYxm31oDSBM"
      },
      "execution_count": null,
      "outputs": []
    },
    {
      "cell_type": "code",
      "source": [
        "\n",
        "def generate_summary3(ypred, cps, n_frames, nfps, positions, proportion=0.15, method='knapsack'):\n",
        "    \"\"\"Generate keyshot-based video summary i.e. a binary vector.\n",
        "    Args:\n",
        "    ---------------------------------------------\n",
        "    - ypred: predicted importance scores.\n",
        "    - cps: change points, 2D matrix, each row contains a segment.\n",
        "    - n_frames: original number of frames.\n",
        "    - nfps: number of frames per segment.\n",
        "    - positions: positions of subsampled frames in the original video.\n",
        "    - proportion: length of video summary (compared to original video length).\n",
        "    - method: defines how shots are selected, ['knapsack', 'rank'].\n",
        "    \"\"\"\n",
        "    n_segs = cps.shape[0]\n",
        "    frame_scores = np.zeros((n_frames), dtype=np.float32)\n",
        "    if positions.dtype != int:\n",
        "        positions = positions.astype(np.int32)\n",
        "    if positions[-1] != n_frames:\n",
        "        positions = np.concatenate([positions, [n_frames]])\n",
        "    if len(ypred)==n_frames:\n",
        "      frame_scores=ypred\n",
        "    elif len(ypred)==len(positions):\n",
        "      for i in range(len(positions) - 1):\n",
        "        pos_left, pos_right = positions[i], positions[i+1]\n",
        "        if i == len(ypred):\n",
        "            frame_scores[pos_left:pos_right] = 0\n",
        "        else:\n",
        "            frame_scores[pos_left:pos_right] = ypred[i]\n",
        "    else:\n",
        "      print(\"check the length of frame scores\")\n",
        "\n",
        "    seg_score = []\n",
        "    for seg_idx in range(n_segs):\n",
        "        start, end = int(cps[seg_idx,0]), int(cps[seg_idx,1]+1)\n",
        "        scores = frame_scores[start:end]\n",
        "        seg_score.append(float(scores.mean()))\n",
        "\n",
        "    limits = int(math.floor(n_frames * proportion))\n",
        "\n",
        "    if method == 'knapsack':\n",
        "        #picks = knapsack_dp(seg_score, nfps, n_segs, limits)\n",
        "        picks = knapsack_ortools(seg_score, nfps, n_segs, limits)\n",
        "    elif method == 'rank':\n",
        "        order = np.argsort(seg_score)[::-1].tolist()\n",
        "        picks = []\n",
        "        total_len = 0\n",
        "        for i in order:\n",
        "            if total_len + nfps[i] < limits:\n",
        "                picks.append(i)\n",
        "                total_len += nfps[i]\n",
        "    else:\n",
        "        raise KeyError(\"Unknown method {}\".format(method))\n",
        "\n",
        "    summary = np.zeros((1), dtype=np.float32) # this element should be deleted\n",
        "    frame_seg_score=[]\n",
        "    for seg_idx in range(n_segs):\n",
        "        nf = nfps[seg_idx]\n",
        "        frame_seg_score.extend([seg_score[seg_idx] for i in range(nf)])\n",
        "        if seg_idx in picks:\n",
        "            tmp = np.ones((nf), dtype=np.float32)\n",
        "        else:\n",
        "            tmp = np.zeros((nf), dtype=np.float32)\n",
        "        summary = np.concatenate((summary, tmp))\n",
        "\n",
        "    summary = np.delete(summary, 0) # delete the first element\n",
        "\n",
        "    return frame_seg_score, summary\n"
      ],
      "metadata": {
        "id": "LPqpEUeHDKiI"
      },
      "execution_count": null,
      "outputs": []
    },
    {
      "cell_type": "code",
      "source": [
        "frame_seg_score1, summary=generate_summary3(gt, change_pts, n_frame, nfps, picks)"
      ],
      "metadata": {
        "colab": {
          "base_uri": "https://localhost:8080/"
        },
        "id": "3XAvijfsEBdl",
        "outputId": "44247b63-3f20-4e23-c015-7e8b2d5bb53c"
      },
      "execution_count": null,
      "outputs": [
        {
          "output_type": "stream",
          "name": "stderr",
          "text": [
            "/usr/local/lib/python3.7/dist-packages/ipykernel_launcher.py:5: DeprecationWarning: `np.int` is a deprecated alias for the builtin `int`. To silence this warning, use `int` by itself. Doing this will not modify any behavior and is safe. When replacing `np.int`, you may wish to use e.g. `np.int64` or `np.int32` to specify the precision. If you wish to review your current use, check the release note link for additional information.\n",
            "Deprecated in NumPy 1.20; for more details and guidance: https://numpy.org/devdocs/release/1.20.0-notes.html#deprecations\n",
            "  \"\"\"\n",
            "/usr/local/lib/python3.7/dist-packages/ipykernel_launcher.py:6: DeprecationWarning: `np.int` is a deprecated alias for the builtin `int`. To silence this warning, use `int` by itself. Doing this will not modify any behavior and is safe. When replacing `np.int`, you may wish to use e.g. `np.int64` or `np.int32` to specify the precision. If you wish to review your current use, check the release note link for additional information.\n",
            "Deprecated in NumPy 1.20; for more details and guidance: https://numpy.org/devdocs/release/1.20.0-notes.html#deprecations\n",
            "  \n"
          ]
        }
      ]
    },
    {
      "cell_type": "code",
      "source": [
        "fig = plt.figure(figsize = (20, 9))\n",
        "plt.bar(x=list(range(1, n_frame+1)), height=frame_seg_score1, width=1, color=color_coding(summary))\n",
        "#plt.plot(pred)\n",
        "#plt.plot(gt_mode,c='yellow')\n",
        "plt.plot(gt,c='blue')\n",
        "\n",
        "for s in change_pts:\n",
        "  plt.axvline(x=s[1], color='black')\n",
        "#Black is gt from excel(Mean)\n",
        "#Red is gt Mode\n",
        "#Blue is Predicted\n"
      ],
      "metadata": {
        "colab": {
          "base_uri": "https://localhost:8080/",
          "height": 537
        },
        "id": "oTUdy1B87rMF",
        "outputId": "60f97658-4ba7-48fd-b7c5-ce2f1fac4329"
      },
      "execution_count": null,
      "outputs": [
        {
          "output_type": "display_data",
          "data": {
            "text/plain": [
              "<Figure size 1440x648 with 1 Axes>"
            ],
            "image/png": "[encoded data removed]"
          },
          "metadata": {
            "needs_background": "light"
          }
        }
      ]
    },
    {
      "cell_type": "code",
      "source": [
        "frame_seg_score, summary=generate_summary3(gt_mode, change_pts, n_frame, nfps, picks)\n",
        "plt.close\n",
        "fig = plt.figure(figsize = (20, 9))\n",
        "plt.bar(x=list(range(1, n_frame+1)), height=frame_seg_score, width=1, color=color_coding(summary))\n",
        "plt.plot(gt_mode,c='green')\n",
        "for s in change_pts:\n",
        "  plt.axvline(x=s[1], color='black')"
      ],
      "metadata": {
        "colab": {
          "base_uri": "https://localhost:8080/",
          "height": 661
        },
        "id": "sTMXklku9PWD",
        "outputId": "1063251c-f336-4b49-fea4-9c0106c047c9"
      },
      "execution_count": null,
      "outputs": [
        {
          "output_type": "stream",
          "name": "stderr",
          "text": [
            "/usr/local/lib/python3.7/dist-packages/ipykernel_launcher.py:5: DeprecationWarning: `np.int` is a deprecated alias for the builtin `int`. To silence this warning, use `int` by itself. Doing this will not modify any behavior and is safe. When replacing `np.int`, you may wish to use e.g. `np.int64` or `np.int32` to specify the precision. If you wish to review your current use, check the release note link for additional information.\n",
            "Deprecated in NumPy 1.20; for more details and guidance: https://numpy.org/devdocs/release/1.20.0-notes.html#deprecations\n",
            "  \"\"\"\n",
            "/usr/local/lib/python3.7/dist-packages/ipykernel_launcher.py:6: DeprecationWarning: `np.int` is a deprecated alias for the builtin `int`. To silence this warning, use `int` by itself. Doing this will not modify any behavior and is safe. When replacing `np.int`, you may wish to use e.g. `np.int64` or `np.int32` to specify the precision. If you wish to review your current use, check the release note link for additional information.\n",
            "Deprecated in NumPy 1.20; for more details and guidance: https://numpy.org/devdocs/release/1.20.0-notes.html#deprecations\n",
            "  \n"
          ]
        },
        {
          "output_type": "display_data",
          "data": {
            "text/plain": [
              "<Figure size 1440x648 with 1 Axes>"
            ],
            "image/png": "[encoded data removed]"
          },
          "metadata": {
            "needs_background": "light"
          }
        }
      ]
    },
    {
      "cell_type": "code",
      "source": [
        "user=2"
      ],
      "metadata": {
        "id": "canlGOl4MQiI"
      },
      "execution_count": null,
      "outputs": []
    },
    {
      "cell_type": "code",
      "source": [
        "fig = plt.figure(figsize = (20, 9))\n",
        "plt.bar(x=list(range(1, n_frame+1)), height=frame_seg_score1, width=1, color=color_coding(file_load['video_'+str(v)]['user_summary'][:][user]))\n",
        "#plt.plot(pred)\n",
        "#plt.plot(gt_mode,c='yellow')\n",
        "plt.plot(gt,c='blue')\n",
        "\n",
        "for s in change_pts:\n",
        "  plt.axvline(x=s[1], color='black')\n",
        "#Black is gt from excel(Mean)\n",
        "#Red is gt Mode\n",
        "#Blue is Predicted\n"
      ],
      "metadata": {
        "colab": {
          "base_uri": "https://localhost:8080/",
          "height": 537
        },
        "id": "pW7JuBZhIQqh",
        "outputId": "64da39a4-21c8-4bef-b13e-220c1a70dbd0"
      },
      "execution_count": null,
      "outputs": [
        {
          "output_type": "display_data",
          "data": {
            "text/plain": [
              "<Figure size 1440x648 with 1 Axes>"
            ],
            "image/png": "[encoded data removed]"
          },
          "metadata": {
            "needs_background": "light"
          }
        }
      ]
    },
    {
      "cell_type": "code",
      "source": [
        ""
      ],
      "metadata": {
        "id": "mPrFPVhhNfjs"
      },
      "execution_count": null,
      "outputs": []
    }
  ]
}